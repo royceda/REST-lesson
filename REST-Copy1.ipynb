{
 "cells": [
  {
   "cell_type": "markdown",
   "metadata": {},
   "source": [
    "# REST API"
   ]
  },
  {
   "cell_type": "markdown",
   "metadata": {},
   "source": [
    "### 1. Http Get \n",
    "\n",
    "### Use case \n",
    "* Get data from a service\n",
    "* Trigger an action\n",
    "\n",
    "```python \n",
    "import requests\n",
    "\n",
    "# http get on endpoint.com/data\n",
    "response = requests.get(\"endpoint.com/data\")\n",
    "\n",
    "# Information about response object\n",
    "response.status_code\n",
    "response.headers\n",
    "response.content\n",
    "json = response.json()\n",
    "\n",
    "# Extract dataFrame from json object\n",
    "pd.DataFrame.from_dict(my_json)\n",
    "```\n",
    "\n",
    "#### [requests API documentation](https://2.python-requests.org/)\n"
   ]
  },
  {
   "cell_type": "markdown",
   "metadata": {},
   "source": [
    "1. Get Users from https://reqres.in API\n",
    "2. Display data as a dataframe"
   ]
  },
  {
   "cell_type": "code",
   "execution_count": null,
   "metadata": {},
   "outputs": [],
   "source": []
  },
  {
   "cell_type": "code",
   "execution_count": null,
   "metadata": {},
   "outputs": [],
   "source": []
  },
  {
   "cell_type": "markdown",
   "metadata": {},
   "source": [
    "### 2. Http Post \n",
    "\n",
    "\n",
    "#### Use cases:\n",
    "* Insert data to a database\n",
    "* Send a lot of data\n",
    "* login \n",
    "\n",
    "```python\n",
    "payload = {'key1': 'value1', 'key2': 'value2'}\n",
    "r = requests.post(\"endpoint.com/test\", data=payload)\n",
    "print(r.text)\n",
    "```"
   ]
  },
  {
   "cell_type": "markdown",
   "metadata": {},
   "source": [
    "1. Create a new user "
   ]
  },
  {
   "cell_type": "code",
   "execution_count": null,
   "metadata": {},
   "outputs": [],
   "source": []
  },
  {
   "cell_type": "markdown",
   "metadata": {},
   "source": [
    "### 3. Add flights"
   ]
  },
  {
   "cell_type": "markdown",
   "metadata": {},
   "source": [
    "1. Get all flights \n",
    "2. create new flights and check it in the front-end map\n"
   ]
  },
  {
   "cell_type": "code",
   "execution_count": null,
   "metadata": {},
   "outputs": [],
   "source": []
  }
 ],
 "metadata": {
  "kernelspec": {
   "display_name": "Python 3",
   "language": "python",
   "name": "python3"
  },
  "language_info": {
   "codemirror_mode": {
    "name": "ipython",
    "version": 3
   },
   "file_extension": ".py",
   "mimetype": "text/x-python",
   "name": "python",
   "nbconvert_exporter": "python",
   "pygments_lexer": "ipython3",
   "version": "3.7.1"
  }
 },
 "nbformat": 4,
 "nbformat_minor": 2
}
